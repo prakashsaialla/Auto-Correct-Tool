{
 "cells": [
  {
   "cell_type": "code",
   "execution_count": null,
   "id": "3267ad29",
   "metadata": {},
   "outputs": [],
   "source": [
    "Bharat Intern - VIRTUAL INTERNSHIP PROGRAM 2023\n",
    "\n",
    "ARTIFICIAL INTELLIGENCE\n",
    "\n",
    "JUNE 2023\n",
    "\n",
    "BY - ALLA PRAKASH SAI\n",
    "\n",
    "TASK:- 2"
   ]
  },
  {
   "cell_type": "code",
   "execution_count": 2,
   "id": "c57c3839",
   "metadata": {},
   "outputs": [
    {
     "name": "stdout",
     "output_type": "stream",
     "text": [
      "Requirement already satisfied: pyspellchecker in c:\\users\\praka\\anaconda3\\lib\\site-packages (0.7.2)\n",
      "Requirement already satisfied: pattern in c:\\users\\praka\\anaconda3\\lib\\site-packages (3.6)\n",
      "Requirement already satisfied: lxml in c:\\users\\praka\\anaconda3\\lib\\site-packages (from pattern) (4.9.1)\n",
      "Requirement already satisfied: backports.csv in c:\\users\\praka\\anaconda3\\lib\\site-packages (from pattern) (1.0.7)\n",
      "Requirement already satisfied: python-docx in c:\\users\\praka\\anaconda3\\lib\\site-packages (from pattern) (0.8.11)\n",
      "Requirement already satisfied: numpy in c:\\users\\praka\\anaconda3\\lib\\site-packages (from pattern) (1.23.5)\n",
      "Requirement already satisfied: cherrypy in c:\\users\\praka\\anaconda3\\lib\\site-packages (from pattern) (18.8.0)\n",
      "Requirement already satisfied: beautifulsoup4 in c:\\users\\praka\\anaconda3\\lib\\site-packages (from pattern) (4.11.1)\n",
      "Requirement already satisfied: mysqlclient in c:\\users\\praka\\anaconda3\\lib\\site-packages (from pattern) (2.1.1)\n",
      "Requirement already satisfied: future in c:\\users\\praka\\anaconda3\\lib\\site-packages (from pattern) (0.18.3)\n",
      "Requirement already satisfied: pdfminer.six in c:\\users\\praka\\anaconda3\\lib\\site-packages (from pattern) (20221105)\n",
      "Requirement already satisfied: nltk in c:\\users\\praka\\anaconda3\\lib\\site-packages (from pattern) (3.7)\n",
      "Requirement already satisfied: requests in c:\\users\\praka\\anaconda3\\lib\\site-packages (from pattern) (2.28.1)\n",
      "Requirement already satisfied: feedparser in c:\\users\\praka\\anaconda3\\lib\\site-packages (from pattern) (6.0.10)\n",
      "Requirement already satisfied: scipy in c:\\users\\praka\\anaconda3\\lib\\site-packages (from pattern) (1.10.0)\n",
      "Requirement already satisfied: soupsieve>1.2 in c:\\users\\praka\\anaconda3\\lib\\site-packages (from beautifulsoup4->pattern) (2.3.2.post1)\n",
      "Requirement already satisfied: cheroot>=8.2.1 in c:\\users\\praka\\anaconda3\\lib\\site-packages (from cherrypy->pattern) (10.0.0)\n",
      "Requirement already satisfied: zc.lockfile in c:\\users\\praka\\anaconda3\\lib\\site-packages (from cherrypy->pattern) (3.0.post1)\n",
      "Requirement already satisfied: more-itertools in c:\\users\\praka\\anaconda3\\lib\\site-packages (from cherrypy->pattern) (9.1.0)\n",
      "Requirement already satisfied: portend>=2.1.1 in c:\\users\\praka\\anaconda3\\lib\\site-packages (from cherrypy->pattern) (3.1.0)\n",
      "Requirement already satisfied: jaraco.collections in c:\\users\\praka\\anaconda3\\lib\\site-packages (from cherrypy->pattern) (4.2.0)\n",
      "Requirement already satisfied: sgmllib3k in c:\\users\\praka\\anaconda3\\lib\\site-packages (from feedparser->pattern) (1.0.0)\n",
      "Requirement already satisfied: tqdm in c:\\users\\praka\\anaconda3\\lib\\site-packages (from nltk->pattern) (4.64.1)\n",
      "Requirement already satisfied: regex>=2021.8.3 in c:\\users\\praka\\anaconda3\\lib\\site-packages (from nltk->pattern) (2022.7.9)\n",
      "Requirement already satisfied: joblib in c:\\users\\praka\\anaconda3\\lib\\site-packages (from nltk->pattern) (1.1.1)\n",
      "Requirement already satisfied: click in c:\\users\\praka\\anaconda3\\lib\\site-packages (from nltk->pattern) (8.0.4)\n",
      "Requirement already satisfied: cryptography>=36.0.0 in c:\\users\\praka\\anaconda3\\lib\\site-packages (from pdfminer.six->pattern) (39.0.1)\n",
      "Requirement already satisfied: charset-normalizer>=2.0.0 in c:\\users\\praka\\anaconda3\\lib\\site-packages (from pdfminer.six->pattern) (2.0.4)\n",
      "Requirement already satisfied: certifi>=2017.4.17 in c:\\users\\praka\\anaconda3\\lib\\site-packages (from requests->pattern) (2022.12.7)\n",
      "Requirement already satisfied: urllib3<1.27,>=1.21.1 in c:\\users\\praka\\anaconda3\\lib\\site-packages (from requests->pattern) (1.26.14)\n",
      "Requirement already satisfied: idna<4,>=2.5 in c:\\users\\praka\\anaconda3\\lib\\site-packages (from requests->pattern) (3.4)\n",
      "Requirement already satisfied: jaraco.functools in c:\\users\\praka\\anaconda3\\lib\\site-packages (from cheroot>=8.2.1->cherrypy->pattern) (3.7.0)\n",
      "Requirement already satisfied: cffi>=1.12 in c:\\users\\praka\\anaconda3\\lib\\site-packages (from cryptography>=36.0.0->pdfminer.six->pattern) (1.15.1)\n",
      "Requirement already satisfied: tempora>=1.8 in c:\\users\\praka\\anaconda3\\lib\\site-packages (from portend>=2.1.1->cherrypy->pattern) (5.3.0)\n",
      "Requirement already satisfied: colorama in c:\\users\\praka\\anaconda3\\lib\\site-packages (from click->nltk->pattern) (0.4.6)\n",
      "Requirement already satisfied: jaraco.text in c:\\users\\praka\\anaconda3\\lib\\site-packages (from jaraco.collections->cherrypy->pattern) (3.11.1)\n",
      "Requirement already satisfied: setuptools in c:\\users\\praka\\anaconda3\\lib\\site-packages (from zc.lockfile->cherrypy->pattern) (65.6.3)\n",
      "Requirement already satisfied: pycparser in c:\\users\\praka\\anaconda3\\lib\\site-packages (from cffi>=1.12->cryptography>=36.0.0->pdfminer.six->pattern) (2.21)\n",
      "Requirement already satisfied: pytz in c:\\users\\praka\\anaconda3\\lib\\site-packages (from tempora>=1.8->portend>=2.1.1->cherrypy->pattern) (2022.7)\n",
      "Requirement already satisfied: jaraco.context>=4.1 in c:\\users\\praka\\anaconda3\\lib\\site-packages (from jaraco.text->jaraco.collections->cherrypy->pattern) (4.3.0)\n",
      "Requirement already satisfied: autocommand in c:\\users\\praka\\anaconda3\\lib\\site-packages (from jaraco.text->jaraco.collections->cherrypy->pattern) (2.2.2)\n",
      "Requirement already satisfied: inflect in c:\\users\\praka\\anaconda3\\lib\\site-packages (from jaraco.text->jaraco.collections->cherrypy->pattern) (6.0.4)\n",
      "Requirement already satisfied: pydantic>=1.9.1 in c:\\users\\praka\\anaconda3\\lib\\site-packages (from inflect->jaraco.text->jaraco.collections->cherrypy->pattern) (1.10.9)\n",
      "Requirement already satisfied: typing-extensions>=4.2.0 in c:\\users\\praka\\anaconda3\\lib\\site-packages (from pydantic>=1.9.1->inflect->jaraco.text->jaraco.collections->cherrypy->pattern) (4.4.0)\n",
      "Collecting autocorrect\n",
      "  Downloading autocorrect-2.6.1.tar.gz (622 kB)\n",
      "     -------------------------------------- 622.8/622.8 kB 1.0 MB/s eta 0:00:00\n",
      "  Preparing metadata (setup.py): started\n",
      "  Preparing metadata (setup.py): finished with status 'done'\n",
      "Building wheels for collected packages: autocorrect\n",
      "  Building wheel for autocorrect (setup.py): started\n",
      "  Building wheel for autocorrect (setup.py): finished with status 'done'\n",
      "  Created wheel for autocorrect: filename=autocorrect-2.6.1-py3-none-any.whl size=622374 sha256=a630dec953db0f7fec8dc19ca88ab7626522ac3b0b45117ca23684653b8d37f2\n",
      "  Stored in directory: c:\\users\\praka\\appdata\\local\\pip\\cache\\wheels\\4a\\a8\\1f\\97371a508b82b380dd3faf1bd4ce40843cea1a6c6724f9d7cd\n",
      "Successfully built autocorrect\n",
      "Installing collected packages: autocorrect\n",
      "Successfully installed autocorrect-2.6.1\n",
      "Requirement already satisfied: textblob in c:\\users\\praka\\anaconda3\\lib\\site-packages (0.17.1)\n",
      "Requirement already satisfied: nltk>=3.1 in c:\\users\\praka\\anaconda3\\lib\\site-packages (from textblob) (3.7)\n",
      "Requirement already satisfied: click in c:\\users\\praka\\anaconda3\\lib\\site-packages (from nltk>=3.1->textblob) (8.0.4)\n",
      "Requirement already satisfied: regex>=2021.8.3 in c:\\users\\praka\\anaconda3\\lib\\site-packages (from nltk>=3.1->textblob) (2022.7.9)\n",
      "Requirement already satisfied: tqdm in c:\\users\\praka\\anaconda3\\lib\\site-packages (from nltk>=3.1->textblob) (4.64.1)\n",
      "Requirement already satisfied: joblib in c:\\users\\praka\\anaconda3\\lib\\site-packages (from nltk>=3.1->textblob) (1.1.1)\n",
      "Requirement already satisfied: colorama in c:\\users\\praka\\anaconda3\\lib\\site-packages (from click->nltk>=3.1->textblob) (0.4.6)\n",
      "Requirement already satisfied: textdistance in c:\\users\\praka\\anaconda3\\lib\\site-packages (4.2.1)\n"
     ]
    }
   ],
   "source": [
    "!pip install pyspellchecker\n",
    "!pip install pattern\n",
    "!pip install autocorrect\n",
    "!pip install textblob\n",
    "!pip install textdistance"
   ]
  },
  {
   "cell_type": "code",
   "execution_count": 3,
   "id": "5f5a965b",
   "metadata": {},
   "outputs": [
    {
     "name": "stdout",
     "output_type": "stream",
     "text": [
      "enter the wordhello\n",
      "The corrected word for 'hello' is 'hello' is:\n",
      "The suggested words are {'youto', 'outl', 'outon', 'outa', 'outto', 'oto', 'otto', 'outdo', 'auto', 'outof', 'out', 'orto', 'onto', 'puto', 'outs', 'ouzo'}:\n"
     ]
    }
   ],
   "source": [
    "from spellchecker import SpellChecker\n",
    "spell = SpellChecker()\n",
    "misspell_word = input(\"enter the word\")\n",
    "correct_word = spell.correction(misspell_word)\n",
    "print(f\"The corrected word for '{misspell_word}' is '{correct_word}' is:\")\n",
    "misspell_word = \"outo\"\n",
    "suggestions = spell.candidates(misspell_word)\n",
    "print(f\"The suggested words are {suggestions}:\")"
   ]
  },
  {
   "cell_type": "code",
   "execution_count": null,
   "id": "1354e8c3",
   "metadata": {},
   "outputs": [],
   "source": []
  }
 ],
 "metadata": {
  "kernelspec": {
   "display_name": "Python 3 (ipykernel)",
   "language": "python",
   "name": "python3"
  },
  "language_info": {
   "codemirror_mode": {
    "name": "ipython",
    "version": 3
   },
   "file_extension": ".py",
   "mimetype": "text/x-python",
   "name": "python",
   "nbconvert_exporter": "python",
   "pygments_lexer": "ipython3",
   "version": "3.10.9"
  }
 },
 "nbformat": 4,
 "nbformat_minor": 5
}
